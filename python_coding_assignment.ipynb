{
  "metadata": {
    "kernelspec": {
      "name": "python",
      "display_name": "Python (Pyodide)",
      "language": "python"
    },
    "language_info": {
      "codemirror_mode": {
        "name": "python",
        "version": 3
      },
      "file_extension": ".py",
      "mimetype": "text/x-python",
      "name": "python",
      "nbconvert_exporter": "python",
      "pygments_lexer": "ipython3",
      "version": "3.8"
    }
  },
  "nbformat_minor": 5,
  "nbformat": 4,
  "cells": [
    {
      "id": "d2554ef5-5488-4379-a16f-fde6053a5690",
      "cell_type": "code",
      "source": "# Section 1: Python Operators and Control Structures\n# Question 1: Calculate the sum of all numbers in a list using a for loop.\n\nnumbers = [1, 2, 3, 4, 5]\ntotal = 0\nfor num in numbers:\n    total += num\nprint(total)  # Output: 15\n\n\n# Question 2: What is the output of the following code?\n\nx = 5\ny = 2\nprint(x ** y)  # Output: 25\n\n\n# Question 3: Write a Python program to check if a number is a palindrome using a while loop.\n\nnum = 12321\nreversed_num = 0\noriginal_num = num\nwhile num != 0:\n    remainder = num % 10\n    reversed_num = (reversed_num * 10) + remainder\n    num = num // 10\nif original_num == reversed_num:\n    print(True)\nelse:\n    print(False)\n\n\n# Question 4: What is the output of the following code?\n\nfruits = ['apple', 'banana', 'cherry']\nprint(fruits[-1])  # Output: cherry\n\n\n# Question 5: Write a Python program to calculate the average of all numbers in a list using a for loop.\n\nnumbers = [1, 2, 3, 4, 5]\ntotal = 0\nfor num in numbers:\n    total += num\naverage = total / len(numbers)\nprint(average)  # Output: 3.0\n\n\n# Section 2: Lists and Dictionaries\n# Question 6: Write a Python program to create a dictionary with student names as keys and their grades as values.\n\nstudents = ['John', 'Alice', 'Bob']\ngrades = [90, 85, 95]\nstudent_grades = dict(zip(students, grades))\nprint(student_grades)  # Output: {'John': 90, 'Alice': 85, 'Bob': 95}\n\n\n# Question 7: What is the output of the following code?\n\nnumbers = [1, 2, 3, 4, 5]\nprint(numbers[1:3])  # Output: [2, 3]\n\n\n# Question 8: Write a Python program to sort a list of numbers in ascending order using the sorted() function.\n\nnumbers = [4, 2, 9, 6, 5]\nsorted_numbers = sorted(numbers)\nprint(sorted_numbers)  # Output: [2, 4, 5, 6, 9]\n\n\n# Question 9: What is the output of the following code?\n\nfruits = {'apple': 5, 'banana': 10, 'cherry': 15}\nprint(fruits.get('banana'))  # Output: 10\n\n\n# Question 10: Write a Python program to create a list of squares of all numbers from 1 to 10 using a list comprehension.\n\nsquares = [i ** 2 for i in range(1, 11)]\nprint(squares)  # Output: [1, 4, 9, 16, 25, 36, 49, 64, 81, 100]\n\n\n# Section 3: Advanced Topics\n# Question 11: Write a Python program to calculate the factorial of a number using recursion.\n\ndef factorial(n):\n    if n == 0:\n        return 1\n    else:\n        return n * factorial(n-1)\n\nnum = 5\nprint(factorial(num))  # Output: 120\n\n\nQuestion 12: What is the output of the following code?\n\nnumbers = [1, 2, 3, 4, 5]\nprint(list(reversed(numbers)))  # Output: [5, 4, 3, 2, 1]\n\n\n# Question 13: Write a Python program to create a generator that yields the Fibonacci sequence up to the nth term.\n\ndef fibonacci(n):\n    a, b = 0, 1\n    for _ in range(n):\n        yield a\n        a, b = b, a + b\n\nn = 10\nfib_sequence = list(fibonacci(n))\nprint(fib_sequence)  # Output: [0, 1, 1, 2, 3, 5, 8, 13, 21, 34]\n\n\n# Question 14: What is the output of the following code?\n\nimport math\nprint(math.pi)  # Output: 3.14159...\n\n# Question 15: Write a Python program to print the inverted star pyramid of height 5.\n\ndef print_inverted_pyramid(height):\n    for i in range(height, 0, -1):\n        print('* ' * i)\n\nprint_inverted_pyramid(5)\n\n",
      "metadata": {
        "trusted": true
      },
      "outputs": [
        {
          "name": "stdout",
          "output_type": "stream",
          "text": "15\n25\nTrue\ncherry\n3.0\n{'John': 90, 'Alice': 85, 'Bob': 95}\n[2, 3]\n[2, 4, 5, 6, 9]\n10\n[1, 4, 9, 16, 25, 36, 49, 64, 81, 100]\n120\nObject `code` not found.\n[5, 4, 3, 2, 1]\n[0, 1, 1, 2, 3, 5, 8, 13, 21, 34]\n3.141592653589793\n* * * * * \n* * * * \n* * * \n* * \n* \n"
        }
      ],
      "execution_count": 2
    },
    {
      "id": "daa36620-c888-405e-94bd-6bbe29aad50e",
      "cell_type": "code",
      "source": "",
      "metadata": {
        "trusted": true
      },
      "outputs": [],
      "execution_count": null
    }
  ]
}